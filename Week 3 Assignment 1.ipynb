{
 "cells": [
  {
   "cell_type": "markdown",
   "id": "a52c2cc1-358c-4b03-83d4-082be74f5909",
   "metadata": {},
   "source": [
    "#### Q1. Which keyword is used to create a function? Create a function to return a list of odd numbers in the range of 1 to 25."
   ]
  },
  {
   "cell_type": "markdown",
   "id": "e168d108-ca33-4fe7-8b0b-b75dc7e31b50",
   "metadata": {},
   "source": [
    "#### Ans: The keyword used to create a function in many programming languages, including Python, is \"def\" ."
   ]
  },
  {
   "cell_type": "code",
   "execution_count": 1,
   "id": "4074b1a2-6dc3-44f9-b356-362b19c8b452",
   "metadata": {},
   "outputs": [
    {
     "name": "stdout",
     "output_type": "stream",
     "text": [
      "[1, 3, 5, 7, 9, 11, 13, 15, 17, 19, 21, 23, 25]\n"
     ]
    }
   ],
   "source": [
    "def get_odd_numbers():\n",
    "    odd_numbers = []\n",
    "    for number in range(1, 26):\n",
    "        if number % 2 != 0:\n",
    "            odd_numbers.append(number)\n",
    "    return odd_numbers\n",
    "\n",
    "result = get_odd_numbers()\n",
    "print(result)"
   ]
  },
  {
   "cell_type": "markdown",
   "id": "25db175a-3c54-44c1-8a78-ef841718bb25",
   "metadata": {},
   "source": [
    "#### Q2. Why *args and **kwargs is used in some functions? Create a function each for *args and **kwargs to demonstrate their use."
   ]
  },
  {
   "cell_type": "markdown",
   "id": "30040c9b-3e68-42f4-bcef-eda80046d7b9",
   "metadata": {},
   "source": [
    "#### Ans: In Python, *args and **kwargs are used to pass a variable number of arguments to a function. The args syntax allows you to pass a variable number of positional arguments to a function. The name \"args\" is a convention, but you can use any name as long as it is preceded by an asterisk (). The function treats the arguments passed as a tuple, allowing you to iterate over them or access them by index. Here's an example of a function that uses *args to concatenate a variable number of strings:"
   ]
  },
  {
   "cell_type": "code",
   "execution_count": 5,
   "id": "e73a7429-c885-41af-beb2-9659d435c7a3",
   "metadata": {},
   "outputs": [
    {
     "name": "stdout",
     "output_type": "stream",
     "text": [
      "Hello, World!\n"
     ]
    }
   ],
   "source": [
    "def concatenate_strings(*args):\n",
    "    result = \"\"\n",
    "    for string in args:\n",
    "        result += string\n",
    "    return result\n",
    "\n",
    "# Call the function\n",
    "output = concatenate_strings(\"Hello\", \", \", \"World\", \"!\")\n",
    "print(output)\n"
   ]
  },
  {
   "cell_type": "markdown",
   "id": "009566e9-dd7f-422f-9482-c72d44e8155f",
   "metadata": {},
   "source": [
    "#### The kwargs syntax allows you to pass a variable number of keyword arguments to a function. The name \"kwargs\" is a convention, but you can use any name as long as it is preceded by two asterisks (). The function treats the arguments passed as a dictionary, allowing you to access them by key. Here's an example of a function that uses **kwargs to print key-value pairs:"
   ]
  },
  {
   "cell_type": "code",
   "execution_count": 6,
   "id": "25c0fdcb-66e8-417d-beda-29ab7ba8d115",
   "metadata": {},
   "outputs": [
    {
     "name": "stdout",
     "output_type": "stream",
     "text": [
      "name: John\n",
      "age: 25\n",
      "city: New York\n"
     ]
    }
   ],
   "source": [
    "def print_kwargs(**kwargs):\n",
    "    for key, value in kwargs.items():\n",
    "        print(f\"{key}: {value}\")\n",
    "\n",
    "# Call the function\n",
    "print_kwargs(name=\"John\", age=25, city=\"New York\")\n"
   ]
  },
  {
   "cell_type": "markdown",
   "id": "3f5d1617-2f51-43b2-8035-78fb78ace8af",
   "metadata": {},
   "source": [
    "#### Q3. What is an iterator in python? Name the method used to initialise the iterator object and the method used for iteration. Use these methods to print the first five elements of the given list [2, 4, 6, 8, 10, 12, 14, 16, 18, 20]."
   ]
  },
  {
   "cell_type": "markdown",
   "id": "da4d61a8-d4a4-421f-aee5-2558d3b8a847",
   "metadata": {},
   "source": [
    "#### Ans: In Python, an iterator is an object that allows iteration over a collection of elements, such as a list or a dictionary. It provides a way to access the elements of the collection one by one, without needing to know the underlying implementation details. To initialize an iterator object, you can use the iter() method. This method takes an iterable object as an argument and returns an iterator object. The iterator object keeps track of the current position within the iterable and provides methods to retrieve the next element. To iterate over the elements of an iterator, you can use the next() method. This method retrieves the next element from the iterator. When all elements have been retrieved, it raises a StopIteration exception. Here's an example that demonstrates the use of iter() and next() to print the first five elements of the given list [2, 4, 6, 8, 10, 12, 14, 16, 18, 20]:"
   ]
  },
  {
   "cell_type": "code",
   "execution_count": 7,
   "id": "f1336b0e-a0b4-4134-8ef8-744f6a8a7c69",
   "metadata": {},
   "outputs": [
    {
     "name": "stdout",
     "output_type": "stream",
     "text": [
      "2\n",
      "4\n",
      "6\n",
      "8\n",
      "10\n"
     ]
    }
   ],
   "source": [
    "my_list = [2, 4, 6, 8, 10, 12, 14, 16, 18, 20]\n",
    "\n",
    "# Initialize the iterator\n",
    "my_iterator = iter(my_list)\n",
    "\n",
    "# Print the first five elements\n",
    "for _ in range(5):\n",
    "    element = next(my_iterator)\n",
    "    print(element)\n"
   ]
  },
  {
   "cell_type": "markdown",
   "id": "3a1e6127-8d88-4920-94c9-f2e9eae47c8a",
   "metadata": {},
   "source": [
    "#### Q4. What is a generator function in python? Why yield keyword is used? Give an example of a generator function."
   ]
  },
  {
   "cell_type": "markdown",
   "id": "a67535e8-ff73-4393-8b1f-48de552d00c6",
   "metadata": {},
   "source": [
    "#### Ans: In Python, a generator function is a special type of function that generates a sequence of values using the yield keyword. Instead of returning a single value and exiting, a generator function can yield multiple values one at a time, pausing its execution state in between yields. This allows for efficient memory usage and lazy evaluation, as the generator generates values on-the-fly as they are needed. The yield keyword is used in a generator function to define points at which the function should yield a value. When the yield statement is encountered, the current state of the function is frozen, and the yielded value is returned to the caller. The function's state is then saved, allowing it to resume execution from that point later when the generator is iterated again.                              Here's an example of a generator function that generates a sequence of even numbers:"
   ]
  },
  {
   "cell_type": "code",
   "execution_count": 8,
   "id": "e08e1aef-3673-4ac9-8e7c-ac3eaf270db4",
   "metadata": {},
   "outputs": [
    {
     "name": "stdout",
     "output_type": "stream",
     "text": [
      "0\n",
      "2\n",
      "4\n",
      "6\n",
      "8\n"
     ]
    }
   ],
   "source": [
    "def generate_even_numbers():\n",
    "    number = 0\n",
    "    while True:\n",
    "        yield number\n",
    "        number += 2\n",
    "\n",
    "# Create a generator object\n",
    "even_generator = generate_even_numbers()\n",
    "\n",
    "# Print the first five even numbers\n",
    "for _ in range(5):\n",
    "    even_number = next(even_generator)\n",
    "    print(even_number)\n"
   ]
  },
  {
   "cell_type": "markdown",
   "id": "de050e93-d6ba-422d-833c-e99594c4bbea",
   "metadata": {},
   "source": [
    "#### Q5. Create a generator function for prime numbers less than 1000. Use the next() method to print the first 20 prime numbers."
   ]
  },
  {
   "cell_type": "code",
   "execution_count": 10,
   "id": "be597b4f-61db-4ff9-a2c4-c1854d07a1c7",
   "metadata": {},
   "outputs": [
    {
     "name": "stdout",
     "output_type": "stream",
     "text": [
      "2\n",
      "3\n",
      "5\n",
      "7\n",
      "11\n",
      "13\n",
      "17\n",
      "19\n",
      "23\n",
      "29\n",
      "31\n",
      "37\n",
      "41\n",
      "43\n",
      "47\n",
      "53\n",
      "59\n",
      "61\n",
      "67\n",
      "71\n"
     ]
    }
   ],
   "source": [
    "def generate_prime_numbers():\n",
    "    primes = []\n",
    "    number = 2\n",
    "    while True:\n",
    "        if all(number % prime != 0 for prime in primes):\n",
    "            primes.append(number)\n",
    "            yield number\n",
    "        number += 1\n",
    "\n",
    "# Create a generator object\n",
    "prime_generator = generate_prime_numbers()\n",
    "\n",
    "# Print the first 20 prime numbers\n",
    "for _ in range(20):\n",
    "    prime_number = next(prime_generator)\n",
    "    print(prime_number)\n"
   ]
  },
  {
   "cell_type": "markdown",
   "id": "75312a2d-ef96-4ef4-b953-09d7aabf9e41",
   "metadata": {},
   "source": [
    "#### Q6. Write a python program to print the first 10 Fibonacci numbers using a while loop."
   ]
  },
  {
   "cell_type": "code",
   "execution_count": 11,
   "id": "4f56614c-447b-46b5-8c08-7a3fac0228dd",
   "metadata": {},
   "outputs": [
    {
     "name": "stdout",
     "output_type": "stream",
     "text": [
      "0\n",
      "1\n",
      "1\n",
      "2\n",
      "3\n",
      "5\n",
      "8\n",
      "13\n",
      "21\n",
      "34\n"
     ]
    }
   ],
   "source": [
    "def fibonacci_sequence(n):\n",
    "    fib_sequence = []\n",
    "    a, b = 0, 1\n",
    "    count = 0\n",
    "    while count < n:\n",
    "        fib_sequence.append(a)\n",
    "        a, b = b, a + b\n",
    "        count += 1\n",
    "    return fib_sequence\n",
    "\n",
    "# Print the first 10 Fibonacci numbers\n",
    "fib_numbers = fibonacci_sequence(10)\n",
    "for number in fib_numbers:\n",
    "    print(number)\n"
   ]
  },
  {
   "cell_type": "markdown",
   "id": "899ea665-3d19-4e20-a963-112560f5bf57",
   "metadata": {},
   "source": [
    "#### Q7. Write a List Comprehension to iterate through the given string: ‘pwskills’.                                                                                                                       Expected output: ['p', 'w', 's', 'k', 'i', 'l', 'l', 's']"
   ]
  },
  {
   "cell_type": "code",
   "execution_count": 12,
   "id": "cd83203d-2b42-4a31-9b9c-75627b12767c",
   "metadata": {},
   "outputs": [
    {
     "name": "stdout",
     "output_type": "stream",
     "text": [
      "['p', 'w', 's', 'k', 'i', 'l', 'l', 's']\n"
     ]
    }
   ],
   "source": [
    "string = 'pwskills'\n",
    "output = [char for char in string if char in 'pwskills']\n",
    "print(output)\n"
   ]
  },
  {
   "cell_type": "markdown",
   "id": "1eb8504d-2b0b-4ac8-93c1-f5826308877b",
   "metadata": {},
   "source": [
    "#### Q8. Write a python program to check whether a given number is Palindrome or not using a while loop."
   ]
  },
  {
   "cell_type": "code",
   "execution_count": 17,
   "id": "d3bcf637-1e11-4c2a-9cd2-24cd4c95f206",
   "metadata": {},
   "outputs": [
    {
     "name": "stdout",
     "output_type": "stream",
     "text": [
      "12321 is a palindrome.\n"
     ]
    }
   ],
   "source": [
    "def is_palindrome(number):\n",
    "    original_number = number\n",
    "    reverse_number = 0\n",
    "    while number > 0:\n",
    "        remainder = number % 10\n",
    "        reverse_number = (reverse_number * 10) + remainder\n",
    "        number = number // 10\n",
    "    if original_number == reverse_number:\n",
    "        return True\n",
    "    else:\n",
    "        return False\n",
    "num= 12321\n",
    "if is_palindrome(num):\n",
    "    print(f\"{num} is a palindrome.\")\n",
    "else:\n",
    "    print(f\"{num} is not a palindrome.\")\n"
   ]
  },
  {
   "cell_type": "markdown",
   "id": "ebd950bf-8a51-46c9-97bf-1c6a4158fffc",
   "metadata": {},
   "source": [
    "#### Q9. Write a code to print odd numbers from 1 to 100 using list comprehension."
   ]
  },
  {
   "cell_type": "code",
   "execution_count": null,
   "id": "23365557-dce1-42b7-9349-f72a41700a7f",
   "metadata": {},
   "outputs": [],
   "source": []
  }
 ],
 "metadata": {
  "kernelspec": {
   "display_name": "Python 3 (ipykernel)",
   "language": "python",
   "name": "python3"
  },
  "language_info": {
   "codemirror_mode": {
    "name": "ipython",
    "version": 3
   },
   "file_extension": ".py",
   "mimetype": "text/x-python",
   "name": "python",
   "nbconvert_exporter": "python",
   "pygments_lexer": "ipython3",
   "version": "3.10.8"
  }
 },
 "nbformat": 4,
 "nbformat_minor": 5
}
